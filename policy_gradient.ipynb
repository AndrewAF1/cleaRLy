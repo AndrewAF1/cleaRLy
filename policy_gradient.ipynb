{
 "nbformat": 4,
 "nbformat_minor": 2,
 "metadata": {
  "language_info": {
   "name": "python",
   "codemirror_mode": {
    "name": "ipython",
    "version": 3
   },
   "version": "3.7.4-final"
  },
  "orig_nbformat": 2,
  "file_extension": ".py",
  "mimetype": "text/x-python",
  "name": "python",
  "npconvert_exporter": "python",
  "pygments_lexer": "ipython3",
  "version": 3,
  "kernelspec": {
   "name": "python37464bitmlenvconda1b9674ec19d24c2d994779ac3cd6fdf2",
   "display_name": "Python 3.7.4 64-bit ('mlenv': conda)"
  }
 },
 "cells": [
  {
   "cell_type": "code",
   "execution_count": 1,
   "metadata": {},
   "outputs": [
    {
     "name": "stderr",
     "output_type": "stream",
     "text": "Setting up a new session...\n"
    }
   ],
   "source": [
    "import model as m\n",
    "\n",
    "import torch\n",
    "import torch.optim as optim\n",
    "import gym\n",
    "from collections import deque\n",
    "import statistics\n",
    "from visualize import update_viz"
   ]
  },
  {
   "cell_type": "code",
   "execution_count": 2,
   "metadata": {},
   "outputs": [],
   "source": [
    "env = gym.make(\"CartPole-v1\")"
   ]
  },
  {
   "cell_type": "code",
   "execution_count": 3,
   "metadata": {},
   "outputs": [],
   "source": [
    "policy = m.DiscretePolicy(\n",
    "    n_obs = env.observation_space.shape[0],\n",
    "    n_acts = env.action_space.n,\n",
    "    n_hidden = 64\n",
    ")\n",
    "\n",
    "#value = m.Value(\n",
    "#    n_obs = env.observation_space.shape[0],\n",
    "#    n_hidden = 64\n",
    "#)"
   ]
  },
  {
   "cell_type": "code",
   "execution_count": 4,
   "metadata": {},
   "outputs": [],
   "source": [
    "policy_optimizer = optim.SGD(policy.parameters(), lr = 1e-3)\n",
    "#value_optimizer = optim.SGD(value.parameters(), lr = 0.01)"
   ]
  },
  {
   "cell_type": "code",
   "execution_count": 5,
   "metadata": {},
   "outputs": [],
   "source": [
    "episode_reward = 0\n",
    "last_episode_rewards = []"
   ]
  },
  {
   "cell_type": "code",
   "execution_count": 13,
   "metadata": {},
   "outputs": [
    {
     "ename": "IndexError",
     "evalue": "list index out of range",
     "output_type": "error",
     "traceback": [
      "\u001b[0;31m---------------------------------------------------------------------------\u001b[0m",
      "\u001b[0;31mIndexError\u001b[0m                                Traceback (most recent call last)",
      "\u001b[0;32m<ipython-input-13-dcada033c50d>\u001b[0m in \u001b[0;36m<module>\u001b[0;34m\u001b[0m\n\u001b[1;32m     48\u001b[0m             \u001b[0mreturns\u001b[0m\u001b[0;34m[\u001b[0m\u001b[0mi\u001b[0m\u001b[0;34m]\u001b[0m \u001b[0;34m=\u001b[0m \u001b[0mrewards\u001b[0m\u001b[0;34m[\u001b[0m\u001b[0mi\u001b[0m\u001b[0;34m]\u001b[0m\u001b[0;34m\u001b[0m\u001b[0;34m\u001b[0m\u001b[0m\n\u001b[1;32m     49\u001b[0m         \u001b[0;32melse\u001b[0m\u001b[0;34m:\u001b[0m\u001b[0;34m\u001b[0m\u001b[0;34m\u001b[0m\u001b[0m\n\u001b[0;32m---> 50\u001b[0;31m             \u001b[0mreturns\u001b[0m\u001b[0;34m[\u001b[0m\u001b[0mi\u001b[0m\u001b[0;34m]\u001b[0m \u001b[0;34m=\u001b[0m \u001b[0mrewards\u001b[0m\u001b[0;34m[\u001b[0m\u001b[0mi\u001b[0m\u001b[0;34m]\u001b[0m \u001b[0;34m+\u001b[0m \u001b[0mreturns\u001b[0m\u001b[0;34m[\u001b[0m\u001b[0mi\u001b[0m \u001b[0;34m+\u001b[0m \u001b[0;36m1\u001b[0m\u001b[0;34m]\u001b[0m \u001b[0;34m*\u001b[0m \u001b[0;36m0.99\u001b[0m\u001b[0;34m\u001b[0m\u001b[0;34m\u001b[0m\u001b[0m\n\u001b[0m\u001b[1;32m     51\u001b[0m \u001b[0;34m\u001b[0m\u001b[0m\n\u001b[1;32m     52\u001b[0m     \u001b[0mreturns\u001b[0m \u001b[0;34m=\u001b[0m \u001b[0mtorch\u001b[0m\u001b[0;34m.\u001b[0m\u001b[0mstack\u001b[0m\u001b[0;34m(\u001b[0m\u001b[0mreturns\u001b[0m\u001b[0;34m)\u001b[0m\u001b[0;34m\u001b[0m\u001b[0;34m\u001b[0m\u001b[0m\n",
      "\u001b[0;31mIndexError\u001b[0m: list index out of range"
     ]
    }
   ],
   "source": [
    "for _ in range(100000):\n",
    "    trajectories = []\n",
    "    state = torch.tensor([env.reset()], dtype=torch.float32)\n",
    "    trajectories.append({\n",
    "        \"state\": state,\n",
    "        \"action\": torch.tensor([0]),\n",
    "        \"reward\": torch.tensor([0.0]),\n",
    "        \"done\": False\n",
    "    })\n",
    "\n",
    "    for _ in range(1000):\n",
    "        if trajectories[-1][\"done\"]:\n",
    "            env.reset()\n",
    "            last_episode_rewards.append(episode_reward)\n",
    "            episode_reward = 0\n",
    "\n",
    "            if len(last_episode_rewards) == 1000:\n",
    "                avg_ep_reward = statistics.mean(last_episode_rewards)\n",
    "                print(avg_ep_reward)\n",
    "                update_viz(avg_ep_reward, 1000)\n",
    "                last_episode_rewards.clear()\n",
    "\n",
    "        action = policy(trajectories[-1][\"state\"])\n",
    "        state, reward, done, _ = env.step(action.item())\n",
    "        #print(reward)\n",
    "\n",
    "        trajectories.append({\n",
    "            \"state\": torch.tensor([state], dtype=torch.float32),\n",
    "            \"action\": action,\n",
    "            \"reward\": torch.tensor([reward]),\n",
    "            \"done\": done\n",
    "        })\n",
    "\n",
    "        episode_reward += reward\n",
    "\n",
    "        #print(done, reward)\n",
    "\n",
    "    states = torch.stack([trajectory[\"state\"].squeeze(0) for trajectory in trajectories])\n",
    "    actions = torch.stack([trajectory[\"action\"] for trajectory in trajectories])\n",
    "    dones = torch.stack([torch.tensor([1.0]) if trajectory[\"done\"] else torch.tensor([0.0]) for trajectory in trajectories])\n",
    "    rewards = [trajectory[\"reward\"] for trajectory in trajectories]\n",
    "\n",
    "    #print(rewards)\n",
    "    returns = [0] * len(rewards)\n",
    "    future = 0\n",
    "    \n",
    "    for i in reversed(range(len(rewards))):\n",
    "        if dones[i]:\n",
    "            returns[i] = rewards[i]\n",
    "        else:\n",
    "            returns[i] = rewards[i] + returns[i + 1] * 0.99\n",
    "\n",
    "    returns = torch.stack(returns)\n",
    "    \n",
    "\n",
    "    #print(rewards[-1])\n",
    "\n",
    "    #value_estimates = value(states)\n",
    "\n",
    "    log_probs = policy.log_prob(states, actions)\n",
    "\n",
    "    policy_loss = -(returns * log_probs).mean()\n",
    "\n",
    "    policy_optimizer.zero_grad()\n",
    "    policy_loss.backward()\n",
    "    policy_optimizer.step()\n",
    "\n",
    "    #value_loss = torch.pow((value_estimates - rewards), 2).mean()\n",
    "\n",
    "    #value_optimizer.zero_grad()\n",
    "    #value_loss.backward()\n",
    "    #value_optimizer.step()"
   ]
  },
  {
   "cell_type": "code",
   "execution_count": 0,
   "metadata": {},
   "outputs": [],
   "source": [
    "#[trajectory[\"state\"] for trajectory in trajectories]\n"
   ]
  },
  {
   "cell_type": "code",
   "execution_count": null,
   "metadata": {},
   "outputs": [],
   "source": []
  }
 ]
}